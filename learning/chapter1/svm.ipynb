{
 "cells": [
  {
   "cell_type": "code",
   "execution_count": null,
   "metadata": {},
   "outputs": [],
   "source": [
    "import matplotlib.pyplot as plt\n",
    "from sklearn import svm\n",
    "import mnist_loader\n",
    "import numpy as np"
   ]
  },
  {
   "cell_type": "code",
   "execution_count": null,
   "metadata": {},
   "outputs": [],
   "source": [
    "training_data, validation_data, test_data = mnist_loader.load_data()"
   ]
  },
  {
   "cell_type": "code",
   "execution_count": null,
   "metadata": {},
   "outputs": [],
   "source": [
    "print training_data[0][0]"
   ]
  },
  {
   "cell_type": "code",
   "execution_count": null,
   "metadata": {},
   "outputs": [],
   "source": [
    "print len(test_data)"
   ]
  },
  {
   "cell_type": "code",
   "execution_count": null,
   "metadata": {},
   "outputs": [],
   "source": [
    "clf = svm.SVC()\n",
    "clf = svm.SVC(gamma=0.001, C=100)"
   ]
  },
  {
   "cell_type": "code",
   "execution_count": null,
   "metadata": {},
   "outputs": [],
   "source": [
    "# 50000 can be used for training, but do not use more than 10000\n",
    "numbers_to_train = 2000\n",
    "X,y = training_data[0][:numbers_to_train], training_data[1][:numbers_to_train]"
   ]
  },
  {
   "cell_type": "code",
   "execution_count": null,
   "metadata": {},
   "outputs": [],
   "source": [
    "clf.fit(X,y)"
   ]
  },
  {
   "cell_type": "code",
   "execution_count": null,
   "metadata": {},
   "outputs": [],
   "source": [
    "numbers_to_predict = 20\n",
    "testnumbers = test_data[0][:numbers_to_predict]\n",
    "predictions = [int(a) for a in clf.predict(testnumbers)]\n",
    "print predictions"
   ]
  },
  {
   "cell_type": "code",
   "execution_count": null,
   "metadata": {},
   "outputs": [],
   "source": [
    "num_correct_list = [int(a == y) for a, y in zip(predictions, test_data[1][:numbers_to_predict])]\n",
    "print \"Baseline classifier using an SVM.\"\n",
    "print \"%s of %s values correct.\" % (sum(num_correct), numbers_to_predict)"
   ]
  },
  {
   "cell_type": "code",
   "execution_count": null,
   "metadata": {},
   "outputs": [],
   "source": [
    "num_wrong = num_correct.index(0)"
   ]
  },
  {
   "cell_type": "code",
   "execution_count": null,
   "metadata": {},
   "outputs": [],
   "source": [
    "fig, ax = plt.subplots(1)\n",
    "plt.imshow(test_data[0][num_wrong].reshape(-1, 28), cmap=plt.cm.gray_r, interpolation='nearest')\n",
    "ax.text(1, 2, 'predicted: ' + str(predictions[num_wrong]), bbox={'facecolor': 'white', 'pad': 10})\n",
    "counter += 1\n",
    "plt.show()"
   ]
  },
  {
   "cell_type": "code",
   "execution_count": null,
   "metadata": {},
   "outputs": [],
   "source": [
    "counter = 0\n",
    "for t in test_data[0][:numbers_to_predict]:\n",
    "    fig, ax = plt.subplots(1)\n",
    "    plt.imshow(t.reshape(-1, 28), cmap=plt.cm.gray_r, interpolation='nearest')\n",
    "    ax.text(1, 2, 'predicted: ' + str(predictions[counter]), bbox={'facecolor': 'white', 'pad': 10})\n",
    "    counter += 1\n",
    "    plt.show()"
   ]
  }
 ],
 "metadata": {
  "kernelspec": {
   "display_name": "Python 2.7.16 64-bit ('python2': virtualenv)",
   "language": "python",
   "name": "python271664bitpython2virtualenv6c3ce9bb3aa246478003a9c026942d22"
  },
  "language_info": {
   "codemirror_mode": {
    "name": "ipython",
    "version": 2
   },
   "file_extension": ".py",
   "mimetype": "text/x-python",
   "name": "python",
   "nbconvert_exporter": "python",
   "pygments_lexer": "ipython2",
   "version": "2.7.16"
  }
 },
 "nbformat": 4,
 "nbformat_minor": 2
}
