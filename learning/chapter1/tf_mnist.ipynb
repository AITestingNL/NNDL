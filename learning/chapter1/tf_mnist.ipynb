{
 "cells": [
  {
   "cell_type": "code",
   "execution_count": 48,
   "metadata": {},
   "outputs": [],
   "source": [
    "import tensorflow as tf\n",
    "import tensorflow.keras as keras\n",
    "import mnist_loader"
   ]
  },
  {
   "cell_type": "code",
   "execution_count": 49,
   "metadata": {},
   "outputs": [],
   "source": [
    "training_data, validation_data, test_data = mnist_loader.load_data()"
   ]
  },
  {
   "cell_type": "code",
   "execution_count": 64,
   "metadata": {},
   "outputs": [],
   "source": [
    "model = tf.keras.models.Sequential()\n",
    "model.add(tf.keras.layers.Flatten())\n",
    "model.add(tf.keras.layers.Dense(128, activation=tf.nn.sigmoid))\n",
    "model.add(tf.keras.layers.Dense(128, activation=tf.nn.sigmoid))\n",
    "model.add(tf.keras.layers.Dense(10, activation=tf.nn.softmax))\n",
    "\n",
    "model.compile(optimizer='adam',\n",
    "              loss='sparse_categorical_crossentropy',\n",
    "              metrics=['accuracy'])\n"
   ]
  },
  {
   "cell_type": "code",
   "execution_count": 65,
   "metadata": {},
   "outputs": [
    {
     "name": "stdout",
     "output_type": "stream",
     "text": [
      "Train on 50000 samples\n",
      "Epoch 1/3\n",
      "50000/50000 [==============================] - 2s 44us/sample - loss: 0.4670 - accuracy: 0.8735\n",
      "Epoch 2/3\n",
      "50000/50000 [==============================] - 2s 40us/sample - loss: 0.1858 - accuracy: 0.9443\n",
      "Epoch 3/3\n",
      "50000/50000 [==============================] - 2s 41us/sample - loss: 0.1310 - accuracy: 0.9606\n"
     ]
    },
    {
     "data": {
      "text/plain": [
       "<tensorflow.python.keras.callbacks.History at 0x14187b810>"
      ]
     },
     "execution_count": 65,
     "metadata": {},
     "output_type": "execute_result"
    }
   ],
   "source": [
    "model.fit(training_data[0], training_data[1], epochs=3)\n",
    "\n",
    "#val_loss, val_acc = model.evaluate(training_data[0][:10000], training_data[1][:10000])"
   ]
  },
  {
   "cell_type": "code",
   "execution_count": null,
   "metadata": {},
   "outputs": [],
   "source": [
    "#print(val_loss)\n",
    "#print(val_acc)"
   ]
  },
  {
   "cell_type": "code",
   "execution_count": null,
   "metadata": {},
   "outputs": [],
   "source": [
    "# plt.imshow(training_data[0][0].reshape(-1,28) ,cmap=plt.cm.binary)\n",
    "# plt.show()"
   ]
  },
  {
   "cell_type": "code",
   "execution_count": null,
   "metadata": {},
   "outputs": [],
   "source": [
    "#model.save('epic_num_reader.model')\n",
    "#new_model = tf.keras.models.load_model('epic_num_reader.model')"
   ]
  },
  {
   "cell_type": "code",
   "execution_count": 66,
   "metadata": {},
   "outputs": [],
   "source": [
    "predictions = model.predict(test_data[0][:10])"
   ]
  },
  {
   "cell_type": "code",
   "execution_count": 67,
   "metadata": {},
   "outputs": [
    {
     "name": "stdout",
     "output_type": "stream",
     "text": [
      "[[2.32867751e-05 1.76190169e-05 1.29827298e-03 8.50185112e-04\n",
      "  4.36316924e-07 1.02537124e-05 3.18074855e-09 9.97715235e-01\n",
      "  3.90844434e-06 8.09232806e-05]\n",
      " [5.08502271e-05 2.00196309e-03 9.95528996e-01 1.85281050e-03\n",
      "  8.60767500e-07 3.68133769e-04 6.45282998e-05 1.86365232e-05\n",
      "  1.13092363e-04 1.30026734e-07]\n",
      " [6.06256549e-07 9.93237734e-01 2.83720531e-03 5.82330220e-04\n",
      "  6.46783155e-05 1.93116604e-04 6.46305270e-05 2.83947773e-03\n",
      "  1.49316780e-04 3.08429262e-05]\n",
      " [9.91277695e-01 7.77514833e-06 1.35526084e-03 2.91609264e-04\n",
      "  3.75032105e-05 5.57780324e-04 5.34870662e-04 4.84780641e-03\n",
      "  3.29279683e-05 1.05677405e-03]\n",
      " [9.63977218e-05 2.01114267e-06 6.49530208e-04 2.01564799e-05\n",
      "  9.85107243e-01 1.77655442e-04 1.26116021e-04 9.28817724e-04\n",
      "  2.29732061e-04 1.26623027e-02]\n",
      " [5.09706808e-07 9.86964285e-01 5.21499198e-04 7.58524635e-04\n",
      "  5.70432567e-05 7.87534082e-05 3.35504910e-06 1.13262674e-02\n",
      "  1.02087724e-04 1.87724567e-04]\n",
      " [9.32827788e-06 1.08470913e-05 5.33757229e-05 4.48349128e-05\n",
      "  9.91556048e-01 6.05914742e-04 7.27170118e-05 8.78347200e-04\n",
      "  2.37158150e-03 4.39691776e-03]\n",
      " [2.30727409e-07 2.27380384e-04 6.34689568e-05 1.42114505e-03\n",
      "  1.08836836e-03 3.58072313e-04 4.31331046e-07 5.42025431e-04\n",
      "  1.26038460e-04 9.96172845e-01]\n",
      " [3.69838835e-03 7.86012097e-04 5.69915511e-02 1.64738231e-04\n",
      "  3.69488783e-02 4.25603479e-01 4.66708481e-01 9.04977787e-05\n",
      "  6.81179669e-03 2.19617155e-03]\n",
      " [8.13908446e-06 7.69622056e-06 8.71085376e-06 4.46794947e-05\n",
      "  1.98603282e-03 1.37836423e-05 6.14268060e-07 5.34998858e-03\n",
      "  1.00186990e-04 9.92480159e-01]]\n"
     ]
    }
   ],
   "source": [
    "print(predictions)"
   ]
  },
  {
   "cell_type": "code",
   "execution_count": 69,
   "metadata": {},
   "outputs": [
    {
     "name": "stdout",
     "output_type": "stream",
     "text": [
      "7\n"
     ]
    }
   ],
   "source": [
    "import numpy as np\n",
    "print(np.argmax(predictions[0]))"
   ]
  },
  {
   "cell_type": "code",
   "execution_count": 63,
   "metadata": {},
   "outputs": [
    {
     "data": {
      "image/png": "[encoded data removed]",
      "text/plain": [
       "<Figure size 432x288 with 1 Axes>"
      ]
     },
     "metadata": {
      "needs_background": "light"
     },
     "output_type": "display_data"
    }
   ],
   "source": [
    "plt.imshow(test_data[0][8].reshape(-1, 28), cmap=plt.cm.binary)\n",
    "plt.show()"
   ]
  },
  {
   "cell_type": "code",
   "execution_count": null,
   "metadata": {},
   "outputs": [],
   "source": []
  }
 ],
 "metadata": {
  "kernelspec": {
   "display_name": "Python 2.7.16 64-bit ('python2': virtualenv)",
   "language": "python",
   "name": "python271664bitpython2virtualenv6c3ce9bb3aa246478003a9c026942d22"
  },
  "language_info": {
   "codemirror_mode": {
    "name": "ipython",
    "version": 2
   },
   "file_extension": ".py",
   "mimetype": "text/x-python",
   "name": "python",
   "nbconvert_exporter": "python",
   "pygments_lexer": "ipython2",
   "version": "2.7.16"
  }
 },
 "nbformat": 4,
 "nbformat_minor": 2
}
