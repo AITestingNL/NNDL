{
 "cells": [
  {
   "cell_type": "code",
   "execution_count": 70,
   "metadata": {},
   "outputs": [],
   "source": [
    "import tensorflow as tf\n",
    "import tensorflow.keras as keras\n",
    "import mnist_loader"
   ]
  },
  {
   "cell_type": "code",
   "execution_count": 71,
   "metadata": {},
   "outputs": [],
   "source": [
    "training_data, validation_data, test_data = mnist_loader.load_data()"
   ]
  },
  {
   "cell_type": "code",
   "execution_count": 72,
   "metadata": {},
   "outputs": [],
   "source": [
    "# activation options can be found here: https://keras.io/activations/. relu, tanh, sigmoid, etc can be used\n",
    "\n",
    "model = tf.keras.models.Sequential()\n",
    "model.add(tf.keras.layers.Flatten())\n",
    "model.add(tf.keras.layers.Dense(128, activation=tf.nn.sigmoid))\n",
    "model.add(tf.keras.layers.Dense(128, activation=tf.nn.sigmoid))\n",
    "model.add(tf.keras.layers.Dense(10, activation=tf.nn.softmax))\n",
    "\n",
    "model.compile(optimizer='adam',\n",
    "              loss='sparse_categorical_crossentropy',\n",
    "              metrics=['accuracy'])\n"
   ]
  },
  {
   "cell_type": "code",
   "execution_count": 73,
   "metadata": {},
   "outputs": [
    {
     "name": "stdout",
     "output_type": "stream",
     "text": [
      "Train on 50000 samples\n",
      "Epoch 1/3\n",
      "50000/50000 [==============================] - 2s 49us/sample - loss: 0.4701 - accuracy: 0.8738\n",
      "Epoch 2/3\n",
      "50000/50000 [==============================] - 2s 41us/sample - loss: 0.1914 - accuracy: 0.9428s - loss: 0.1951 - accura\n",
      "Epoch 3/3\n",
      "50000/50000 [==============================] - 2s 41us/sample - loss: 0.1374 - accuracy: 0.9597\n"
     ]
    },
    {
     "data": {
      "text/plain": [
       "<tensorflow.python.keras.callbacks.History at 0x141a06ad0>"
      ]
     },
     "execution_count": 73,
     "metadata": {},
     "output_type": "execute_result"
    }
   ],
   "source": [
    "model.fit(training_data[0], training_data[1], epochs=3)\n",
    "\n",
    "#val_loss, val_acc = model.evaluate(training_data[0][:10000], training_data[1][:10000])"
   ]
  },
  {
   "cell_type": "code",
   "execution_count": 74,
   "metadata": {},
   "outputs": [],
   "source": [
    "#print(val_loss)\n",
    "#print(val_acc)"
   ]
  },
  {
   "cell_type": "code",
   "execution_count": 75,
   "metadata": {},
   "outputs": [],
   "source": [
    "# plt.imshow(training_data[0][0].reshape(-1,28) ,cmap=plt.cm.binary)\n",
    "# plt.show()"
   ]
  },
  {
   "cell_type": "code",
   "execution_count": 76,
   "metadata": {},
   "outputs": [],
   "source": [
    "#model.save('epic_num_reader.model')\n",
    "#new_model = tf.keras.models.load_model('epic_num_reader.model')"
   ]
  },
  {
   "cell_type": "code",
   "execution_count": 77,
   "metadata": {},
   "outputs": [],
   "source": [
    "predictions = model.predict(test_data[0][:10])"
   ]
  },
  {
   "cell_type": "code",
   "execution_count": 78,
   "metadata": {},
   "outputs": [
    {
     "name": "stdout",
     "output_type": "stream",
     "text": [
      "[[3.05270078e-05 1.06364078e-05 8.88031209e-04 1.05004315e-03\n",
      "  1.59827016e-06 2.21333212e-05 2.50264947e-08 9.97785568e-01\n",
      "  4.05827086e-06 2.07252102e-04]\n",
      " [1.53610134e-04 1.96064822e-03 9.93623972e-01 2.64781970e-03\n",
      "  5.24100778e-06 3.26255336e-04 1.15927029e-03 8.70181702e-06\n",
      "  1.14299764e-04 1.51880087e-07]\n",
      " [1.28789509e-06 9.95894790e-01 1.74186984e-03 5.16086933e-04\n",
      "  6.37023768e-05 3.24446301e-04 3.30684212e-04 8.29097815e-04\n",
      "  2.89924297e-04 8.09858557e-06]\n",
      " [9.99233007e-01 1.35015159e-06 2.54943880e-04 4.13108392e-05\n",
      "  8.07614833e-06 1.22371377e-04 2.25641721e-04 8.63307941e-05\n",
      "  2.70824262e-06 2.41679736e-05]\n",
      " [6.03328663e-05 8.33486865e-06 8.02730036e-04 1.18678799e-05\n",
      "  9.90657687e-01 8.63491878e-05 2.09769205e-04 4.12796828e-04\n",
      "  9.01316089e-05 7.65990419e-03]\n",
      " [7.11281700e-07 9.96959805e-01 2.10763901e-04 2.81133398e-04\n",
      "  3.83096740e-05 6.91842724e-05 1.14726981e-05 2.25462811e-03\n",
      "  1.45663260e-04 2.84413527e-05]\n",
      " [8.35297215e-06 1.68830611e-05 2.38231969e-05 4.15453796e-05\n",
      "  9.93468642e-01 9.72406415e-04 2.17988869e-04 3.46319808e-04\n",
      "  2.36476585e-03 2.53925519e-03]\n",
      " [1.62267702e-06 1.61539624e-03 8.96036727e-05 2.72461283e-03\n",
      "  9.38071404e-03 8.08104174e-04 3.78081349e-05 1.11379928e-03\n",
      "  4.04862454e-04 9.83823419e-01]\n",
      " [1.83791872e-02 3.96499585e-04 7.01979082e-03 3.28083479e-05\n",
      "  2.00762395e-02 4.16177452e-01 5.36637187e-01 3.39769686e-05\n",
      "  8.31323909e-04 4.15579707e-04]\n",
      " [1.02518716e-04 4.27042778e-06 3.57728059e-05 9.81804042e-05\n",
      "  1.27458787e-02 4.21280020e-05 9.11589450e-06 4.59668692e-03\n",
      "  5.43406524e-04 9.81822014e-01]]\n"
     ]
    }
   ],
   "source": [
    "print(predictions)"
   ]
  },
  {
   "cell_type": "code",
   "execution_count": 79,
   "metadata": {},
   "outputs": [
    {
     "name": "stdout",
     "output_type": "stream",
     "text": [
      "7\n"
     ]
    }
   ],
   "source": [
    "import numpy as np\n",
    "print(np.argmax(predictions[0]))"
   ]
  },
  {
   "cell_type": "code",
   "execution_count": 80,
   "metadata": {},
   "outputs": [
    {
     "data": {
      "image/png": "[encoded data removed]",
      "text/plain": [
       "<Figure size 432x288 with 1 Axes>"
      ]
     },
     "metadata": {
      "needs_background": "light"
     },
     "output_type": "display_data"
    }
   ],
   "source": [
    "plt.imshow(test_data[0][0].reshape(-1, 28), cmap=plt.cm.binary)\n",
    "plt.show()"
   ]
  }
 ],
 "metadata": {
  "kernelspec": {
   "display_name": "Python 2.7.16 64-bit ('python2': virtualenv)",
   "language": "python",
   "name": "python271664bitpython2virtualenv6c3ce9bb3aa246478003a9c026942d22"
  },
  "language_info": {
   "codemirror_mode": {
    "name": "ipython",
    "version": 2
   },
   "file_extension": ".py",
   "mimetype": "text/x-python",
   "name": "python",
   "nbconvert_exporter": "python",
   "pygments_lexer": "ipython2",
   "version": "2.7.16"
  }
 },
 "nbformat": 4,
 "nbformat_minor": 2
}
